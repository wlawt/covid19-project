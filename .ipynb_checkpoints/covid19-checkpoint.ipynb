{
 "cells": [
  {
   "cell_type": "code",
   "execution_count": null,
   "metadata": {},
   "outputs": [],
   "source": [
    "\"\"\"\n",
    "    INSIGHTS DERIVED\n",
    "    \n",
    "    - The average recovery time from this dataset is 23.3 days (~3.3 weeks) for the patients in Korea\n",
    "\"\"\" "
   ]
  },
  {
   "cell_type": "code",
   "execution_count": 1,
   "metadata": {},
   "outputs": [],
   "source": [
    "patient_info = \"./korea_dataset/PatientInfo.csv\""
   ]
  },
  {
   "cell_type": "code",
   "execution_count": 2,
   "metadata": {},
   "outputs": [],
   "source": [
    "import pandas as pd"
   ]
  },
  {
   "cell_type": "code",
   "execution_count": 33,
   "metadata": {},
   "outputs": [
    {
     "name": "stdout",
     "output_type": "stream",
     "text": [
      "   patient_id  global_num     sex  birth_year  age country province  \\\n",
      "0  1000000001         2.0    male      1964.0  50s   Korea    Seoul   \n",
      "1  1000000002         5.0    male      1987.0  30s   Korea    Seoul   \n",
      "2  1000000003         6.0    male      1964.0  50s   Korea    Seoul   \n",
      "3  1000000004         7.0    male      1991.0  20s   Korea    Seoul   \n",
      "4  1000000005         9.0  female      1992.0  20s   Korea    Seoul   \n",
      "\n",
      "          city disease        infection_case  infection_order   infected_by  \\\n",
      "0   Gangseo-gu     NaN       overseas inflow              1.0           NaN   \n",
      "1  Jungnang-gu     NaN       overseas inflow              1.0           NaN   \n",
      "2    Jongno-gu     NaN  contact with patient              2.0  2.002000e+09   \n",
      "3      Mapo-gu     NaN       overseas inflow              1.0           NaN   \n",
      "4  Seongbuk-gu     NaN  contact with patient              2.0  1.000000e+09   \n",
      "\n",
      "   contact_number symptom_onset_date confirmed_date released_date  \\\n",
      "0            75.0            1/22/20        1/23/20       2/05/20   \n",
      "1            31.0                NaN        1/30/20       3/02/20   \n",
      "2            17.0                NaN        1/30/20       2/19/20   \n",
      "3             9.0            1/26/20        1/30/20       2/15/20   \n",
      "4             2.0                NaN        1/31/20       2/24/20   \n",
      "\n",
      "  deceased_date     state  \n",
      "0           NaN  released  \n",
      "1           NaN  released  \n",
      "2           NaN  released  \n",
      "3           NaN  released  \n",
      "4           NaN  released  \n"
     ]
    }
   ],
   "source": [
    "df = pd.read_csv(patient_info, encoding=\"utf-8\")\n",
    "print(df.head())"
   ]
  },
  {
   "cell_type": "code",
   "execution_count": 19,
   "metadata": {},
   "outputs": [
    {
     "name": "stdout",
     "output_type": "stream",
     "text": [
      "   patient_id  global_num     sex  birth_year  age         city disease  \\\n",
      "0  1000000001         2.0    male      1964.0  50s   Gangseo-gu     NaN   \n",
      "1  1000000002         5.0    male      1987.0  30s  Jungnang-gu     NaN   \n",
      "2  1000000003         6.0    male      1964.0  50s    Jongno-gu     NaN   \n",
      "3  1000000004         7.0    male      1991.0  20s      Mapo-gu     NaN   \n",
      "4  1000000005         9.0  female      1992.0  20s  Seongbuk-gu     NaN   \n",
      "\n",
      "         infection_case  infection_order   infected_by  contact_number  \\\n",
      "0       overseas inflow              1.0           NaN            75.0   \n",
      "1       overseas inflow              1.0           NaN            31.0   \n",
      "2  contact with patient              2.0  2.002000e+09            17.0   \n",
      "3       overseas inflow              1.0           NaN             9.0   \n",
      "4  contact with patient              2.0  1.000000e+09             2.0   \n",
      "\n",
      "  symptom_onset_date confirmed_date released_date deceased_date     state  \n",
      "0         2020-01-22     2020-01-23    2020-02-05           NaN  released  \n",
      "1                NaN     2020-01-30    2020-03-02           NaN  released  \n",
      "2                NaN     2020-01-30    2020-02-19           NaN  released  \n",
      "3         2020-01-26     2020-01-30    2020-02-15           NaN  released  \n",
      "4                NaN     2020-01-31    2020-02-24           NaN  released  \n"
     ]
    }
   ],
   "source": [
    "df.drop(\"country\", axis=1, inplace=True)\n",
    "df.drop(\"province\", axis=1, inplace=True)\n",
    "print(df.head())"
   ]
  },
  {
   "cell_type": "code",
   "execution_count": 23,
   "metadata": {},
   "outputs": [
    {
     "name": "stdout",
     "output_type": "stream",
     "text": [
      "isolated    1934\n",
      "released    1133\n",
      "deceased      61\n",
      "Name: state, dtype: int64\n"
     ]
    }
   ],
   "source": [
    "print(df[\"state\"].value_counts())"
   ]
  },
  {
   "cell_type": "code",
   "execution_count": 54,
   "metadata": {},
   "outputs": [
    {
     "name": "stdout",
     "output_type": "stream",
     "text": [
      "2020-01-23\n"
     ]
    }
   ],
   "source": [
    "#df[\"confirmed_date\"].isnull()"
   ]
  },
  {
   "cell_type": "code",
   "execution_count": 73,
   "metadata": {},
   "outputs": [],
   "source": [
    "from datetime import datetime\n",
    "\n",
    "import math\n",
    "\n",
    "date_format = \"%Y-%m-%d\"\n",
    "\n",
    "recovery_duration = []\n",
    "\n",
    "checkin = None\n",
    "released = None\n",
    "\n",
    "for i in range(len(df[\"confirmed_date\"])):\n",
    "    confirm = df[\"confirmed_date\"][i]\n",
    "    release = df[\"released_date\"][i]\n",
    "    \n",
    "    checkin = datetime.strptime(confirm, date_format)\n",
    "    \n",
    "    try:\n",
    "        if (math.isnan(release)):\n",
    "            released = datetime.strptime(datetime.today().strftime('%Y-%m-%d'), date_format)\n",
    "            recovery_duration.append((released - checkin).days)\n",
    "    except:    \n",
    "        released = datetime.strptime(release, date_format)\n",
    "        duration = released - checkin\n",
    "        \n",
    "        recovery_duration.append(duration.days)\n",
    "            \n",
    "\n",
    "#print(recovery_duration)\n",
    "        "
   ]
  },
  {
   "cell_type": "code",
   "execution_count": 75,
   "metadata": {},
   "outputs": [],
   "source": [
    "df[\"recovery_period\"] = recovery_duration"
   ]
  },
  {
   "cell_type": "code",
   "execution_count": 76,
   "metadata": {},
   "outputs": [
    {
     "name": "stdout",
     "output_type": "stream",
     "text": [
      "23.695652173913043\n"
     ]
    }
   ],
   "source": [
    "#print(df[\"recovery_period\"])\n",
    "print(df[\"recovery_period\"].mean())"
   ]
  },
  {
   "cell_type": "code",
   "execution_count": 92,
   "metadata": {},
   "outputs": [
    {
     "data": {
      "image/png": "[encoded data removed]",
      "text/plain": [
       "<Figure size 432x288 with 1 Axes>"
      ]
     },
     "metadata": {
      "needs_background": "light"
     },
     "output_type": "display_data"
    }
   ],
   "source": [
    "import matplotlib.pyplot as plt\n",
    "\n",
    "#%matplotlib.inline\n",
    "\n",
    "#bin_range = df[\"\"]\n",
    "\n",
    "counter = df[\"confirmed_date\"].value_counts()\n",
    "bin_range = (counter.max() - counter.min())/8\n",
    "\n",
    "#print(type(counter))\n",
    "\n",
    "counter.plot(\"bar\")\n",
    "plt.show()\n",
    "\n",
    "#plt.hist()"
   ]
  },
  {
   "cell_type": "code",
   "execution_count": 13,
   "metadata": {},
   "outputs": [
    {
     "data": {
      "text/plain": [
       "True"
      ]
     },
     "execution_count": 13,
     "metadata": {},
     "output_type": "execute_result"
    }
   ],
   "source": [
    "df[\"disease\"].isnull().values.any()"
   ]
  },
  {
   "cell_type": "code",
   "execution_count": 20,
   "metadata": {},
   "outputs": [
    {
     "name": "stdout",
     "output_type": "stream",
     "text": [
      "3128 819\n"
     ]
    }
   ],
   "source": [
    "length = len(df[\"infection_case\"]) # 3128\n",
    "count = df[\"infection_case\"].isnull().sum()\n",
    "print(length, count) # disease: 3128 3110\n",
    "\n",
    "# infection_case 3128 819"
   ]
  },
  {
   "cell_type": "code",
   "execution_count": 67,
   "metadata": {},
   "outputs": [
    {
     "data": {
      "text/plain": [
       "array(['', 'Bonghwa Pureun Nursing Home', 'Changnyeong Coin Karaoke',\n",
       "       'Cheongdo Daenam Hospital', 'Dongan Church',\n",
       "       \"Eunpyeong St. Mary's Hospital\", 'Geochang Church',\n",
       "       'Guro-gu Call Center', 'Gyeongsan Cham Joeun Community Center',\n",
       "       'Gyeongsan Jeil Silver Town', 'Gyeongsan Seorin Nursing Home',\n",
       "       'Milal Shelter', 'Ministry of Oceans and Fisheries',\n",
       "       'Onchun Church', 'Pilgrimage to Israel',\n",
       "       'River of Grace Community Church', 'Seongdong-gu APT',\n",
       "       'Shincheonji Church', 'Suyeong-gu Kindergarten',\n",
       "       'contact with patient', 'etc', 'gym facility in Cheonan',\n",
       "       'gym facility in Sejong', 'overseas inflow'], dtype=object)"
      ]
     },
     "execution_count": 67,
     "metadata": {},
     "output_type": "execute_result"
    }
   ],
   "source": [
    "import numpy as np\n",
    "#from sklearn.preprocessing import LabelEncoder\n",
    "#le = LabelEncoder()\n",
    "\n",
    "#df[\"infection_case\"] = le.fit_transform(df[\"infection_case\"].astype(str))\n",
    "df = df.fillna(\"\")\n",
    "df[\"infection_case\"].replace(np.nan, \"--\", regex=True)\n",
    "\n",
    "diff_infection = np.unique(df[\"infection_case\"])\n",
    "diff_infection\n",
    "#print(df[\"infection_case\"][745])"
   ]
  },
  {
   "cell_type": "code",
   "execution_count": 64,
   "metadata": {},
   "outputs": [
    {
     "data": {
      "text/plain": [
       "array(['', 'Andong-si', 'Ansan-si', 'Anseong-si', 'Anyang-si', 'Asan-si',\n",
       "       'Bonghwa-gun', 'Bucheon-si', 'Buk-gu', 'Bupyeong-gu',\n",
       "       'Busanjin-gu', 'Buyeo-gun', 'Changnyeong-gun', 'Changwon-si',\n",
       "       'Cheonan-si', 'Cheongdo-gun', 'Cheongju-si', 'Cheongsong-gun',\n",
       "       'Chilgok-gun', 'Chuncheon-si', 'Chungju-si', 'Daedeok-gu',\n",
       "       'Dalseo-gu', 'Dalseong-gun', 'Danyang-gun', 'Dobong-gu', 'Dong-gu',\n",
       "       'Dongdaemun-gu', 'Dongducheon-si', 'Dongjak-gu', 'Dongnae-gu',\n",
       "       'Eumseong-gun', 'Eunpyeong-gu', 'Gangbuk-gu', 'Gangdong-gu',\n",
       "       'Gangnam-gu', 'Gangneung-si', 'Gangseo-gu', 'Gapyeong-gun',\n",
       "       'Geochang-gun', 'Geoje-si', 'Geumcheon-gu', 'Geumjeong-gu',\n",
       "       'Gijang-gun', 'Gimcheon-si', 'Gimhae-si', 'Gimje-si', 'Gimpo-si',\n",
       "       'Goesan-gun', 'Goryeong-gun', 'Goseong-gun', 'Goyang-si',\n",
       "       'Gumi-si', 'Gunpo-si', 'Gunsan-si', 'Gunwi-gun', 'Guri-si',\n",
       "       'Guro-gu', 'Gwacheon-si', 'Gwanak-gu', 'Gwangjin-gu', 'Gwangju-si',\n",
       "       'Gwangmyeong-si', 'Gwangyang-si', 'Gyeongju-si', 'Gyeongsan-si',\n",
       "       'Gyeryong-si', 'Gyeyang-gu', 'Haeundae-gu', 'Haman-gun',\n",
       "       'Hamyang-gun', 'Hanam-si', 'Hapcheon-gun', 'Hongseong-gun',\n",
       "       'Hwaseong-si', 'Hwasun-gun', 'Icheon-si', 'Iksan-si', 'Inje-gun',\n",
       "       'Jeju-do', 'Jeonju-si', 'Jeungpyeong-gun', 'Jincheon-gun',\n",
       "       'Jinju-si', 'Jongno-gu', 'Jung-gu', 'Jungnang-gu', 'Mapo-gu',\n",
       "       'Michuhol-gu', 'Miryang-si', 'Mokpo-si', 'Muan-gun',\n",
       "       'Mungyeong-si', 'Nam-gu', 'Namdong-gu', 'Namhae-gun',\n",
       "       'Namyangju-si', 'Nowon-gu', 'Osan-si', 'Paju-si', 'Pocheon-si',\n",
       "       'Pohang-si', 'Pyeongtaek-si', 'Sacheon-si', 'Saha-gu',\n",
       "       'Samcheok-si', 'Sancheong-gun', 'Sangju-si', 'Sasang-gu', 'Sejong',\n",
       "       'Seo-gu', 'Seocho-gu', 'Seodaemun-gu', 'Seongbuk-gu',\n",
       "       'Seongdong-gu', 'Seongju-gun', 'Seongnam-si', 'Seosan-si',\n",
       "       'Siheung-si', 'Sokcho-si', 'Songpa-gu', 'Suncheon-si',\n",
       "       'Suseong-gu', 'Suwon-si', 'Suyeong-gu', 'Taean-gun', 'Taebaek-si',\n",
       "       'Uijeongbu-si', 'Uiseong-gun', 'Uiwang-si', 'Ulju-gun', 'Wonju-si',\n",
       "       'Yangcheon-gu', 'Yangju-si', 'Yangsan-si', 'Yecheon-gun',\n",
       "       'Yeongcheon-si', 'Yeongdeok-gun', 'Yeongdeungpo-gu', 'Yeongju-si',\n",
       "       'Yeongyang-gun', 'Yeonje-gu', 'Yeonsu-gu', 'Yeosu-si', 'Yongin-si',\n",
       "       'Yongsan-gu', 'Yuseong-gu', 'etc'], dtype=object)"
      ]
     },
     "execution_count": 64,
     "metadata": {},
     "output_type": "execute_result"
    }
   ],
   "source": [
    "diff_cities = np.unique(df[\"city\"])\n",
    "diff_cities"
   ]
  },
  {
   "cell_type": "code",
   "execution_count": 68,
   "metadata": {},
   "outputs": [
    {
     "data": {
      "text/plain": [
       "{0: '',\n",
       " 1: 'Bonghwa Pureun Nursing Home',\n",
       " 2: 'Changnyeong Coin Karaoke',\n",
       " 3: 'Cheongdo Daenam Hospital',\n",
       " 4: 'Dongan Church',\n",
       " 5: \"Eunpyeong St. Mary's Hospital\",\n",
       " 6: 'Geochang Church',\n",
       " 7: 'Guro-gu Call Center',\n",
       " 8: 'Gyeongsan Cham Joeun Community Center',\n",
       " 9: 'Gyeongsan Jeil Silver Town',\n",
       " 10: 'Gyeongsan Seorin Nursing Home',\n",
       " 11: 'Milal Shelter',\n",
       " 12: 'Ministry of Oceans and Fisheries',\n",
       " 13: 'Onchun Church',\n",
       " 14: 'Pilgrimage to Israel',\n",
       " 15: 'River of Grace Community Church',\n",
       " 16: 'Seongdong-gu APT',\n",
       " 17: 'Shincheonji Church',\n",
       " 18: 'Suyeong-gu Kindergarten',\n",
       " 19: 'contact with patient',\n",
       " 20: 'etc',\n",
       " 21: 'gym facility in Cheonan',\n",
       " 22: 'gym facility in Sejong',\n",
       " 23: 'overseas inflow'}"
      ]
     },
     "execution_count": 68,
     "metadata": {},
     "output_type": "execute_result"
    }
   ],
   "source": [
    "from sklearn.preprocessing import LabelEncoder\n",
    "\n",
    "le = LabelEncoder()\n",
    "infection_labels = le.fit_transform(df[\"infection_case\"])\n",
    "infection_mappings = {index: label for index, label in enumerate(le.classes_)}\n",
    "\n",
    "infection_mappings"
   ]
  },
  {
   "cell_type": "code",
   "execution_count": 74,
   "metadata": {},
   "outputs": [
    {
     "data": {
      "text/html": [
       "<div>\n",
       "<style scoped>\n",
       "    .dataframe tbody tr th:only-of-type {\n",
       "        vertical-align: middle;\n",
       "    }\n",
       "\n",
       "    .dataframe tbody tr th {\n",
       "        vertical-align: top;\n",
       "    }\n",
       "\n",
       "    .dataframe thead th {\n",
       "        text-align: right;\n",
       "    }\n",
       "</style>\n",
       "<table border=\"1\" class=\"dataframe\">\n",
       "  <thead>\n",
       "    <tr style=\"text-align: right;\">\n",
       "      <th></th>\n",
       "      <th>infection_case</th>\n",
       "      <th>infection_label</th>\n",
       "    </tr>\n",
       "  </thead>\n",
       "  <tbody>\n",
       "    <tr>\n",
       "      <th>1</th>\n",
       "      <td>overseas inflow</td>\n",
       "      <td>23</td>\n",
       "    </tr>\n",
       "    <tr>\n",
       "      <th>2</th>\n",
       "      <td>contact with patient</td>\n",
       "      <td>19</td>\n",
       "    </tr>\n",
       "    <tr>\n",
       "      <th>3</th>\n",
       "      <td>overseas inflow</td>\n",
       "      <td>23</td>\n",
       "    </tr>\n",
       "    <tr>\n",
       "      <th>4</th>\n",
       "      <td>contact with patient</td>\n",
       "      <td>19</td>\n",
       "    </tr>\n",
       "    <tr>\n",
       "      <th>5</th>\n",
       "      <td>contact with patient</td>\n",
       "      <td>19</td>\n",
       "    </tr>\n",
       "    <tr>\n",
       "      <th>6</th>\n",
       "      <td>contact with patient</td>\n",
       "      <td>19</td>\n",
       "    </tr>\n",
       "    <tr>\n",
       "      <th>7</th>\n",
       "      <td>overseas inflow</td>\n",
       "      <td>23</td>\n",
       "    </tr>\n",
       "    <tr>\n",
       "      <th>8</th>\n",
       "      <td>overseas inflow</td>\n",
       "      <td>23</td>\n",
       "    </tr>\n",
       "    <tr>\n",
       "      <th>9</th>\n",
       "      <td>contact with patient</td>\n",
       "      <td>19</td>\n",
       "    </tr>\n",
       "  </tbody>\n",
       "</table>\n",
       "</div>"
      ],
      "text/plain": [
       "         infection_case  infection_label\n",
       "1       overseas inflow               23\n",
       "2  contact with patient               19\n",
       "3       overseas inflow               23\n",
       "4  contact with patient               19\n",
       "5  contact with patient               19\n",
       "6  contact with patient               19\n",
       "7       overseas inflow               23\n",
       "8       overseas inflow               23\n",
       "9  contact with patient               19"
      ]
     },
     "execution_count": 74,
     "metadata": {},
     "output_type": "execute_result"
    }
   ],
   "source": [
    "df[\"infection_label\"] = infection_labels\n",
    "df[[\"infection_case\", \"infection_label\"]].iloc[1:10]"
   ]
  },
  {
   "cell_type": "code",
   "execution_count": 91,
   "metadata": {},
   "outputs": [
    {
     "name": "stderr",
     "output_type": "stream",
     "text": [
      "C:\\Users\\William Law\\Anaconda3\\lib\\site-packages\\sklearn\\preprocessing\\_encoders.py:415: FutureWarning: The handling of integer data will change in version 0.22. Currently, the categories are determined based on the range [0, max(values)], while in the future they will be determined based on the unique values.\n",
      "If you want the future behaviour and silence this warning, you can specify \"categories='auto'\".\n",
      "In case you used a LabelEncoder before this OneHotEncoder to convert the categories to integers, then you can now use the OneHotEncoder directly.\n",
      "  warnings.warn(msg, FutureWarning)\n"
     ]
    },
    {
     "data": {
      "text/html": [
       "<div>\n",
       "<style scoped>\n",
       "    .dataframe tbody tr th:only-of-type {\n",
       "        vertical-align: middle;\n",
       "    }\n",
       "\n",
       "    .dataframe tbody tr th {\n",
       "        vertical-align: top;\n",
       "    }\n",
       "\n",
       "    .dataframe thead th {\n",
       "        text-align: right;\n",
       "    }\n",
       "</style>\n",
       "<table border=\"1\" class=\"dataframe\">\n",
       "  <thead>\n",
       "    <tr style=\"text-align: right;\">\n",
       "      <th></th>\n",
       "      <th>infection_case</th>\n",
       "      <th>infection_label</th>\n",
       "      <th>infection_OHE</th>\n",
       "    </tr>\n",
       "  </thead>\n",
       "  <tbody>\n",
       "    <tr>\n",
       "      <th>10</th>\n",
       "      <td>overseas inflow</td>\n",
       "      <td>23</td>\n",
       "      <td>0.0</td>\n",
       "    </tr>\n",
       "    <tr>\n",
       "      <th>11</th>\n",
       "      <td>overseas inflow</td>\n",
       "      <td>23</td>\n",
       "      <td>0.0</td>\n",
       "    </tr>\n",
       "    <tr>\n",
       "      <th>12</th>\n",
       "      <td>contact with patient</td>\n",
       "      <td>19</td>\n",
       "      <td>0.0</td>\n",
       "    </tr>\n",
       "    <tr>\n",
       "      <th>13</th>\n",
       "      <td>contact with patient</td>\n",
       "      <td>19</td>\n",
       "      <td>0.0</td>\n",
       "    </tr>\n",
       "    <tr>\n",
       "      <th>14</th>\n",
       "      <td>Seongdong-gu APT</td>\n",
       "      <td>16</td>\n",
       "      <td>0.0</td>\n",
       "    </tr>\n",
       "    <tr>\n",
       "      <th>15</th>\n",
       "      <td>contact with patient</td>\n",
       "      <td>19</td>\n",
       "      <td>0.0</td>\n",
       "    </tr>\n",
       "    <tr>\n",
       "      <th>16</th>\n",
       "      <td>contact with patient</td>\n",
       "      <td>19</td>\n",
       "      <td>0.0</td>\n",
       "    </tr>\n",
       "    <tr>\n",
       "      <th>17</th>\n",
       "      <td>etc</td>\n",
       "      <td>20</td>\n",
       "      <td>0.0</td>\n",
       "    </tr>\n",
       "    <tr>\n",
       "      <th>18</th>\n",
       "      <td>contact with patient</td>\n",
       "      <td>19</td>\n",
       "      <td>0.0</td>\n",
       "    </tr>\n",
       "    <tr>\n",
       "      <th>19</th>\n",
       "      <td>Seongdong-gu APT</td>\n",
       "      <td>16</td>\n",
       "      <td>0.0</td>\n",
       "    </tr>\n",
       "  </tbody>\n",
       "</table>\n",
       "</div>"
      ],
      "text/plain": [
       "          infection_case  infection_label  infection_OHE\n",
       "10       overseas inflow               23            0.0\n",
       "11       overseas inflow               23            0.0\n",
       "12  contact with patient               19            0.0\n",
       "13  contact with patient               19            0.0\n",
       "14      Seongdong-gu APT               16            0.0\n",
       "15  contact with patient               19            0.0\n",
       "16  contact with patient               19            0.0\n",
       "17                   etc               20            0.0\n",
       "18  contact with patient               19            0.0\n",
       "19      Seongdong-gu APT               16            0.0"
      ]
     },
     "execution_count": 91,
     "metadata": {},
     "output_type": "execute_result"
    }
   ],
   "source": [
    "from sklearn.preprocessing import OneHotEncoder\n",
    "\n",
    "encoder = OneHotEncoder(sparse=False)\n",
    "infection_labels = infection_labels.reshape(len(infection_labels), 1)\n",
    "infection_OHE = encoder.fit_transform(infection_labels)\n",
    "#infection_feature_arr = encoder.fit_transform(df[[\"infection_labels\"]]).toarray()\n",
    "#infection_feature_label = [str(cls_label) for cls_label in le.classes_]\n",
    "#infection_features = pd.DataFrame(infection_feature_arr, columns=infection_feature_label)\n",
    "\n",
    "df[\"infection_OHE\"] = infection_OHE\n",
    "df[[\"infection_case\", \"infection_label\", \"infection_OHE\"]].iloc[10:20]\n",
    "# df[\"infection_OHE\"].value_counts() -> 0.0 2309       1.0 819"
   ]
  },
  {
   "cell_type": "code",
   "execution_count": 95,
   "metadata": {},
   "outputs": [],
   "source": [
    "import seaborn as sns\n"
   ]
  },
  {
   "cell_type": "code",
   "execution_count": null,
   "metadata": {},
   "outputs": [],
   "source": []
  }
 ],
 "metadata": {
  "kernelspec": {
   "display_name": "Python 3",
   "language": "python",
   "name": "python3"
  },
  "language_info": {
   "codemirror_mode": {
    "name": "ipython",
    "version": 3
   },
   "file_extension": ".py",
   "mimetype": "text/x-python",
   "name": "python",
   "nbconvert_exporter": "python",
   "pygments_lexer": "ipython3",
   "version": "3.7.3"
  }
 },
 "nbformat": 4,
 "nbformat_minor": 2
}
